{
 "cells": [
  {
   "cell_type": "markdown",
   "metadata": {},
   "source": [
    "# WeatherPy\n",
    "----\n",
    "\n",
    "### Analysis\n",
    "* As expected, the weather becomes significantly warmer as one approaches the equator (0 Deg. Latitude). More interestingly, however, is the fact that the southern hemisphere tends to be warmer this time of year than the northern hemisphere. This may be due to the tilt of the earth.\n",
    "* There is no strong relationship between latitude and cloudiness. However, it is interesting to see that a strong band of cities sits at 0, 80, and 100% cloudiness.\n",
    "* There is no strong relationship between latitude and wind speed. However, in northern hemispheres there is a flurry of cities with over 20 mph of wind.\n",
    "\n",
    "---\n",
    "\n",
    "#### Note\n",
    "* Instructions have been included for each segment. You do not have to follow them exactly, but they are included to help you think through the steps."
   ]
  },
  {
   "cell_type": "code",
   "execution_count": 1,
   "metadata": {
    "scrolled": true
   },
   "outputs": [],
   "source": [
    "# Dependencies and Setup\n",
    "import matplotlib.pyplot as plt\n",
    "import pandas as pd\n",
    "import numpy as np\n",
    "import requests\n",
    "import time\n",
    "import json\n",
    "from pprint import pprint\n",
    "\n",
    "\n",
    "# Import API key\n",
    "from api_keys import api_key\n",
    "\n",
    "# Incorporated citipy to determine city based on latitude and longitude\n",
    "from citipy import citipy\n",
    "\n",
    "# Output File (CSV)\n",
    "output_data_file = \"output_data/sample_cities.csv\"\n",
    "\n",
    "# Range of latitudes and longitudes\n",
    "lat_range = (-90, 90)\n",
    "lng_range = (-180, 180)"
   ]
  },
  {
   "cell_type": "markdown",
   "metadata": {},
   "source": [
    "## Generate Cities List"
   ]
  },
  {
   "cell_type": "code",
   "execution_count": 2,
   "metadata": {},
   "outputs": [
    {
     "data": {
      "text/plain": [
       "615"
      ]
     },
     "execution_count": 2,
     "metadata": {},
     "output_type": "execute_result"
    }
   ],
   "source": [
    "# List for holding lat_lngs and cities\n",
    "lat_lngs = []\n",
    "cities = []\n",
    "\n",
    "# Create a set of random lat and lng combinations\n",
    "lats = np.random.uniform(low=-90.000, high=90.000, size=1500)\n",
    "lngs = np.random.uniform(low=-180.000, high=180.000, size=1500)\n",
    "lat_lngs = zip(lats, lngs)\n",
    "\n",
    "# Identify nearest city for each lat, lng combination\n",
    "for lat_lng in lat_lngs:\n",
    "    city = citipy.nearest_city(lat_lng[0], lat_lng[1]).city_name\n",
    "    \n",
    "    # If the city is unique, then add it to a our cities list\n",
    "    if city not in cities:\n",
    "        cities.append(city)\n",
    "\n",
    "# Print the city count to confirm sufficient count\n",
    "len(cities)"
   ]
  },
  {
   "cell_type": "markdown",
   "metadata": {},
   "source": [
    "### Perform API Calls\n",
    "* Perform a weather check on each city using a series of successive API calls.\n",
    "* Include a print log of each city as it'sbeing processed (with the city number and city name).\n"
   ]
  },
  {
   "cell_type": "code",
   "execution_count": 3,
   "metadata": {},
   "outputs": [
    {
     "name": "stdout",
     "output_type": "stream",
     "text": [
      "{'base': 'stations',\n",
      " 'clouds': {'all': 1},\n",
      " 'cod': 200,\n",
      " 'coord': {'lat': 33.69, 'lon': -117.83},\n",
      " 'dt': 1536375480,\n",
      " 'id': 5359777,\n",
      " 'main': {'humidity': 73,\n",
      "          'pressure': 1013,\n",
      "          'temp': 73.27,\n",
      "          'temp_max': 80.6,\n",
      "          'temp_min': 66.2},\n",
      " 'name': 'Irvine',\n",
      " 'sys': {'country': 'US',\n",
      "         'id': 485,\n",
      "         'message': 0.0058,\n",
      "         'sunrise': 1536413408,\n",
      "         'sunset': 1536458823,\n",
      "         'type': 1},\n",
      " 'visibility': 16093,\n",
      " 'weather': [{'description': 'clear sky',\n",
      "              'icon': '01n',\n",
      "              'id': 800,\n",
      "              'main': 'Clear'}],\n",
      " 'wind': {'deg': 200, 'speed': 5.82}}\n"
     ]
    }
   ],
   "source": [
    "# Sample of Json response from API Call\n",
    "url = \"http://api.openweathermap.org/data/2.5/weather?\"\n",
    "units = \"imperial\"\n",
    "sample_cities = [\"irvine\", \"bangkok\", \"tokyo\", \"taipei\", \"manila\", \"hong kong\"]\n",
    "\n",
    "params = {\"appid\": api_key,\n",
    "         \"units\": units,\n",
    "         \"q\": \"irvine\"}\n",
    "\n",
    "response = requests.get(url, params=params).json()\n",
    "pprint(response)"
   ]
  },
  {
   "cell_type": "code",
   "execution_count": 4,
   "metadata": {},
   "outputs": [
    {
     "data": {
      "text/html": [
       "<div>\n",
       "<style scoped>\n",
       "    .dataframe tbody tr th:only-of-type {\n",
       "        vertical-align: middle;\n",
       "    }\n",
       "\n",
       "    .dataframe tbody tr th {\n",
       "        vertical-align: top;\n",
       "    }\n",
       "\n",
       "    .dataframe thead th {\n",
       "        text-align: right;\n",
       "    }\n",
       "</style>\n",
       "<table border=\"1\" class=\"dataframe\">\n",
       "  <thead>\n",
       "    <tr style=\"text-align: right;\">\n",
       "      <th></th>\n",
       "      <th>City</th>\n",
       "      <th>Country</th>\n",
       "      <th>Temperature (F)</th>\n",
       "      <th>Latitude</th>\n",
       "      <th>Longitude</th>\n",
       "      <th>Humidity (%)</th>\n",
       "      <th>Cloudiness (%)</th>\n",
       "      <th>Wind Speed (mph)</th>\n",
       "    </tr>\n",
       "  </thead>\n",
       "  <tbody>\n",
       "    <tr>\n",
       "      <th>0</th>\n",
       "      <td>irvine</td>\n",
       "      <td></td>\n",
       "      <td></td>\n",
       "      <td></td>\n",
       "      <td></td>\n",
       "      <td></td>\n",
       "      <td></td>\n",
       "      <td></td>\n",
       "    </tr>\n",
       "    <tr>\n",
       "      <th>1</th>\n",
       "      <td>bangkok</td>\n",
       "      <td></td>\n",
       "      <td></td>\n",
       "      <td></td>\n",
       "      <td></td>\n",
       "      <td></td>\n",
       "      <td></td>\n",
       "      <td></td>\n",
       "    </tr>\n",
       "    <tr>\n",
       "      <th>2</th>\n",
       "      <td>tokyo</td>\n",
       "      <td></td>\n",
       "      <td></td>\n",
       "      <td></td>\n",
       "      <td></td>\n",
       "      <td></td>\n",
       "      <td></td>\n",
       "      <td></td>\n",
       "    </tr>\n",
       "    <tr>\n",
       "      <th>3</th>\n",
       "      <td>taipei</td>\n",
       "      <td></td>\n",
       "      <td></td>\n",
       "      <td></td>\n",
       "      <td></td>\n",
       "      <td></td>\n",
       "      <td></td>\n",
       "      <td></td>\n",
       "    </tr>\n",
       "    <tr>\n",
       "      <th>4</th>\n",
       "      <td>manila</td>\n",
       "      <td></td>\n",
       "      <td></td>\n",
       "      <td></td>\n",
       "      <td></td>\n",
       "      <td></td>\n",
       "      <td></td>\n",
       "      <td></td>\n",
       "    </tr>\n",
       "    <tr>\n",
       "      <th>5</th>\n",
       "      <td>hong kong</td>\n",
       "      <td></td>\n",
       "      <td></td>\n",
       "      <td></td>\n",
       "      <td></td>\n",
       "      <td></td>\n",
       "      <td></td>\n",
       "      <td></td>\n",
       "    </tr>\n",
       "  </tbody>\n",
       "</table>\n",
       "</div>"
      ],
      "text/plain": [
       "        City Country Temperature (F) Latitude Longitude Humidity (%)  \\\n",
       "0     irvine                                                           \n",
       "1    bangkok                                                           \n",
       "2      tokyo                                                           \n",
       "3     taipei                                                           \n",
       "4     manila                                                           \n",
       "5  hong kong                                                           \n",
       "\n",
       "  Cloudiness (%) Wind Speed (mph)  \n",
       "0                                  \n",
       "1                                  \n",
       "2                                  \n",
       "3                                  \n",
       "4                                  \n",
       "5                                  "
      ]
     },
     "execution_count": 4,
     "metadata": {},
     "output_type": "execute_result"
    }
   ],
   "source": [
    "#Create Dataframe\n",
    "weather_df = pd.DataFrame({\"City\": sample_cities})\n",
    "weather_df[\"Country\"] = \"\"\n",
    "weather_df[\"Temperature (F)\"] = \"\"\n",
    "weather_df[\"Latitude\"] = \"\"\n",
    "weather_df[\"Longitude\"] = \"\"\n",
    "weather_df[\"Humidity (%)\"] = \"\"\n",
    "weather_df[\"Cloudiness (%)\"] = \"\"\n",
    "weather_df[\"Wind Speed (mph)\"] = \"\"\n",
    "weather_df"
   ]
  },
  {
   "cell_type": "code",
   "execution_count": 5,
   "metadata": {},
   "outputs": [
    {
     "name": "stdout",
     "output_type": "stream",
     "text": [
      "Beginning Data Retrieval\n",
      "----------------------------------\n",
      "Processing Record 1 of 6 | irvine\n",
      "Processing Record 2 of 6 | bangkok\n",
      "Processing Record 3 of 6 | tokyo\n",
      "Processing Record 4 of 6 | taipei\n",
      "Processing Record 5 of 6 | manila\n",
      "Processing Record 6 of 6 | hong kong\n",
      "----------------------------------\n",
      "Data Retrieval Complete\n",
      "----------------------------------\n"
     ]
    }
   ],
   "source": [
    "# Perform API Calls for each City\n",
    "params = {\"appid\": api_key,\n",
    "         \"units\": units,\n",
    "         \"q\": \"\"}\n",
    "\n",
    "weather = []\n",
    "\n",
    "print(\"Beginning Data Retrieval\")\n",
    "print(\"----------------------------------\")\n",
    "\n",
    "for index, row in weather_df.iterrows():\n",
    "    params[\"q\"] = row.City\n",
    "    print(\"Processing Record \" + str(index + 1) + \" of \" + str(len(sample_cities)) + \" | \" + row.City)\n",
    "    response = requests.get(url, params=params).json()\n",
    "    weather.append(response)\n",
    "    \n",
    "    try:\n",
    "        weather_df.loc[index, \"Country\"] = response['sys']['country']\n",
    "        weather_df.loc[index, \"Temperature (F)\"] = response['main']['temp']\n",
    "        weather_df.loc[index, \"Latitude\"] = response['coord']['lat']\n",
    "        weather_df.loc[index, \"Longitude\"] = response['coord']['lon']\n",
    "        weather_df.loc[index, \"Humidity (%)\"] = response['main']['humidity']\n",
    "        weather_df.loc[index, \"Cloudiness (%)\"] = response['clouds']['all']\n",
    "        weather_df.loc[index, \"Wind Speed (mph)\"] = response['wind']['speed']\n",
    "    except:\n",
    "        print(\"City Not Found...Sipping...\")\n",
    "        \n",
    "    \n",
    "          \n",
    "print(\"----------------------------------\")\n",
    "print(\"Data Retrieval Complete\")\n",
    "print(\"----------------------------------\")"
   ]
  },
  {
   "cell_type": "code",
   "execution_count": 6,
   "metadata": {},
   "outputs": [
    {
     "data": {
      "text/html": [
       "<div>\n",
       "<style scoped>\n",
       "    .dataframe tbody tr th:only-of-type {\n",
       "        vertical-align: middle;\n",
       "    }\n",
       "\n",
       "    .dataframe tbody tr th {\n",
       "        vertical-align: top;\n",
       "    }\n",
       "\n",
       "    .dataframe thead th {\n",
       "        text-align: right;\n",
       "    }\n",
       "</style>\n",
       "<table border=\"1\" class=\"dataframe\">\n",
       "  <thead>\n",
       "    <tr style=\"text-align: right;\">\n",
       "      <th></th>\n",
       "      <th>City</th>\n",
       "      <th>Country</th>\n",
       "      <th>Temperature (F)</th>\n",
       "      <th>Latitude</th>\n",
       "      <th>Longitude</th>\n",
       "      <th>Humidity (%)</th>\n",
       "      <th>Cloudiness (%)</th>\n",
       "      <th>Wind Speed (mph)</th>\n",
       "    </tr>\n",
       "  </thead>\n",
       "  <tbody>\n",
       "    <tr>\n",
       "      <th>0</th>\n",
       "      <td>irvine</td>\n",
       "      <td>US</td>\n",
       "      <td>73.27</td>\n",
       "      <td>33.69</td>\n",
       "      <td>-117.83</td>\n",
       "      <td>73</td>\n",
       "      <td>1</td>\n",
       "      <td>5.82</td>\n",
       "    </tr>\n",
       "    <tr>\n",
       "      <th>1</th>\n",
       "      <td>bangkok</td>\n",
       "      <td>TH</td>\n",
       "      <td>84.2</td>\n",
       "      <td>13.75</td>\n",
       "      <td>100.49</td>\n",
       "      <td>74</td>\n",
       "      <td>40</td>\n",
       "      <td>9.17</td>\n",
       "    </tr>\n",
       "    <tr>\n",
       "      <th>2</th>\n",
       "      <td>tokyo</td>\n",
       "      <td>JP</td>\n",
       "      <td>88.99</td>\n",
       "      <td>35.68</td>\n",
       "      <td>139.76</td>\n",
       "      <td>63</td>\n",
       "      <td>75</td>\n",
       "      <td>23.04</td>\n",
       "    </tr>\n",
       "    <tr>\n",
       "      <th>3</th>\n",
       "      <td>taipei</td>\n",
       "      <td>TW</td>\n",
       "      <td>84.87</td>\n",
       "      <td>25.04</td>\n",
       "      <td>121.56</td>\n",
       "      <td>70</td>\n",
       "      <td>75</td>\n",
       "      <td>6.93</td>\n",
       "    </tr>\n",
       "    <tr>\n",
       "      <th>4</th>\n",
       "      <td>manila</td>\n",
       "      <td>PH</td>\n",
       "      <td>86</td>\n",
       "      <td>14.59</td>\n",
       "      <td>120.98</td>\n",
       "      <td>84</td>\n",
       "      <td>40</td>\n",
       "      <td>9.17</td>\n",
       "    </tr>\n",
       "    <tr>\n",
       "      <th>5</th>\n",
       "      <td>hong kong</td>\n",
       "      <td>CN</td>\n",
       "      <td>84.7</td>\n",
       "      <td>22.28</td>\n",
       "      <td>114.16</td>\n",
       "      <td>62</td>\n",
       "      <td>20</td>\n",
       "      <td>12.75</td>\n",
       "    </tr>\n",
       "  </tbody>\n",
       "</table>\n",
       "</div>"
      ],
      "text/plain": [
       "        City Country Temperature (F) Latitude Longitude Humidity (%)  \\\n",
       "0     irvine      US           73.27    33.69   -117.83           73   \n",
       "1    bangkok      TH            84.2    13.75    100.49           74   \n",
       "2      tokyo      JP           88.99    35.68    139.76           63   \n",
       "3     taipei      TW           84.87    25.04    121.56           70   \n",
       "4     manila      PH              86    14.59    120.98           84   \n",
       "5  hong kong      CN            84.7    22.28    114.16           62   \n",
       "\n",
       "  Cloudiness (%) Wind Speed (mph)  \n",
       "0              1             5.82  \n",
       "1             40             9.17  \n",
       "2             75            23.04  \n",
       "3             75             6.93  \n",
       "4             40             9.17  \n",
       "5             20            12.75  "
      ]
     },
     "execution_count": 6,
     "metadata": {},
     "output_type": "execute_result"
    }
   ],
   "source": [
    "weather_df"
   ]
  },
  {
   "cell_type": "markdown",
   "metadata": {},
   "source": [
    "### Convert Raw Data to DataFrame\n",
    "* Export the city data into a .csv.\n",
    "* Display the DataFrame"
   ]
  },
  {
   "cell_type": "code",
   "execution_count": null,
   "metadata": {},
   "outputs": [],
   "source": []
  },
  {
   "cell_type": "code",
   "execution_count": null,
   "metadata": {},
   "outputs": [],
   "source": [
    "\n"
   ]
  },
  {
   "cell_type": "markdown",
   "metadata": {},
   "source": [
    "### Plotting the Data\n",
    "* Use proper labeling of the plots using plot titles (including date of analysis) and axes labels.\n",
    "* Save the plotted figures as .pngs."
   ]
  },
  {
   "cell_type": "markdown",
   "metadata": {},
   "source": [
    "#### Latitude vs. Temperature Plot"
   ]
  },
  {
   "cell_type": "code",
   "execution_count": null,
   "metadata": {},
   "outputs": [],
   "source": []
  },
  {
   "cell_type": "markdown",
   "metadata": {},
   "source": [
    "#### Latitude vs. Humidity Plot"
   ]
  },
  {
   "cell_type": "code",
   "execution_count": null,
   "metadata": {},
   "outputs": [],
   "source": []
  },
  {
   "cell_type": "markdown",
   "metadata": {},
   "source": [
    "#### Latitude vs. Cloudiness Plot"
   ]
  },
  {
   "cell_type": "code",
   "execution_count": null,
   "metadata": {},
   "outputs": [],
   "source": []
  },
  {
   "cell_type": "markdown",
   "metadata": {},
   "source": [
    "#### Latitude vs. Wind Speed Plot"
   ]
  },
  {
   "cell_type": "code",
   "execution_count": null,
   "metadata": {},
   "outputs": [],
   "source": []
  },
  {
   "cell_type": "code",
   "execution_count": null,
   "metadata": {},
   "outputs": [],
   "source": []
  }
 ],
 "metadata": {
  "anaconda-cloud": {},
  "kernelspec": {
   "display_name": "Python 3",
   "language": "python",
   "name": "python3"
  },
  "language_info": {
   "codemirror_mode": {
    "name": "ipython",
    "version": 3
   },
   "file_extension": ".py",
   "mimetype": "text/x-python",
   "name": "python",
   "nbconvert_exporter": "python",
   "pygments_lexer": "ipython3",
   "version": "3.6.5"
  }
 },
 "nbformat": 4,
 "nbformat_minor": 2
}
